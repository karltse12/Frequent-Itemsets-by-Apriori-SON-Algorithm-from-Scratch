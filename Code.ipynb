{
 "cells": [
  {
   "cell_type": "code",
   "execution_count": 1,
   "id": "04e3bc98",
   "metadata": {},
   "outputs": [],
   "source": [
    "# import library\n",
    "from collections import defaultdict\n",
    "import random\n",
    "import numpy as np\n",
    "\n",
    "\n",
    "random.seed(10)\n",
    "\n",
    "# Set a percentage for threshold to determine whether the itemset is frequent or not\n",
    "# for example, if the threshold percentage is 1% (0.01), and the data size is 3000\n",
    "# that means when the itemset exist 30 times or more, than it will be classified as frequent\n",
    "global threshold_percent\n",
    "threshold_percent = 0.01\n"
   ]
  },
  {
   "cell_type": "code",
   "execution_count": 2,
   "id": "fa6b3cf6",
   "metadata": {},
   "outputs": [],
   "source": [
    "# read data\n",
    "with open('T10I4D100K.dat.txt') as T10I4D100K:\n",
    "    T10I4D100K_lines = T10I4D100K.readlines()\n",
    "T10I4D100K.close()\n",
    "\n",
    "with open('T10I4D100K.dat.txt') as T40I10D100K:\n",
    "    T40I10D100K_lines = T40I10D100K.readlines()\n",
    "T40I10D100K.close()\n",
    "\n",
    "with open('chess.dat.txt') as chess:\n",
    "    chess_lines = chess.readlines()\n",
    "chess.close()\n",
    "\n",
    "with open('connect.dat') as connect:\n",
    "    connect_lines = connect.readlines()\n",
    "connect.close()\n",
    "\n",
    "with open('mushroom.dat.txt') as mushroom:\n",
    "    mushroom_lines = mushroom.readlines()\n",
    "mushroom.close()\n",
    "\n",
    "with open('pumsb.dat.txt') as pumsb:\n",
    "    pumsb_lines = pumsb.readlines()\n",
    "pumsb.close()\n",
    "\n",
    "with open('pumsb_star.dat.txt') as pumsb_star:\n",
    "    pumsb_star_lines = pumsb_star.readlines()\n",
    "pumsb_star.close()"
   ]
  },
  {
   "cell_type": "code",
   "execution_count": 3,
   "id": "6b135a2d",
   "metadata": {},
   "outputs": [],
   "source": [
    "def simple_algo(data, sample_size):\n",
    "    \n",
    "    item_counts = defaultdict(int)\n",
    "    pair_counts = defaultdict(int)\n",
    "    assoication_rules = {}\n",
    "    \n",
    "    # Choose random samples from the whole set\n",
    "    whole_set_size = len(data)\n",
    "    randomlist = random.sample(range(0,whole_set_size), int(np.ceil(whole_set_size*sample_size-0)))\n",
    "    sample = list(data[i] for i in randomlist)\n",
    "\n",
    "    # first pass\n",
    "    THRESHOLD = int(np.ceil(whole_set_size * threshold_percent * sample_size))\n",
    "\n",
    "    # find canidate items\n",
    "    for line in sample:\n",
    "        for item in line.split():\n",
    "            item_counts[item]+=1\n",
    "\n",
    "\n",
    "    # filter for frequent items\n",
    "    frequent_items = set()\n",
    "    for key in item_counts:\n",
    "        if item_counts[key] > THRESHOLD:\n",
    "            frequent_items.add(key)\n",
    "\n",
    "\n",
    "    # second pass\n",
    "    # get counts of candidate pairs\n",
    "    for line in sample:\n",
    "        items = line.split()\n",
    "        for idx_1 in range(len(items)-1):\n",
    "            if items[idx_1] not in frequent_items:\n",
    "                continue\n",
    "            for idx_2 in range(idx_1 + 1, len(items)):\n",
    "                if items[idx_2] not in frequent_items:\n",
    "                    continue\n",
    "                pair = (items[idx_1], items[idx_2])\n",
    "                pair_counts[pair]+=1\n",
    "                \n",
    "\n",
    "    # get frequent pairs\n",
    "    frequent_pairs = []\n",
    "    for key in pair_counts:\n",
    "        if pair_counts[key]>THRESHOLD:\n",
    "            frequent_pairs.append(key)\n",
    "    return frequent_pairs\n",
    "    \n",
    "    # assoication rules and confidence\n",
    "    for i in range(len(frequent_pairs)):\n",
    "        assoication_rules[frequent_pairs[i][0] + ' -> ' + frequent_pairs[i][1]] = np.round(pair_counts[(frequent_pairs[i][0], frequent_pairs[i][1])]/item_counts[frequent_pairs[i][0]],3)\n",
    "        assoication_rules[frequent_pairs[i][1] + ' -> ' + frequent_pairs[i][0]] = np.round(pair_counts[(frequent_pairs[i][0], frequent_pairs[i][1])]/item_counts[frequent_pairs[i][1]],3)\n",
    "    # return assoication_rules\n",
    "        \n",
    "    "
   ]
  },
  {
   "cell_type": "code",
   "execution_count": 4,
   "id": "36db1539",
   "metadata": {},
   "outputs": [],
   "source": [
    "def SON_apriori(data):\n",
    "    \n",
    "    item_counts = defaultdict(int)\n",
    "    pair_counts = defaultdict(int)\n",
    "    assoication_rules = {}\n",
    "    \n",
    "\n",
    "    # first pass\n",
    "    whole_set_size = len(data)\n",
    "    THRESHOLD = int(np.ceil(whole_set_size * threshold_percent))\n",
    "\n",
    "    # find canidate items\n",
    "    for line in data:\n",
    "        for item in line.split():\n",
    "            item_counts[item]+=1\n",
    "\n",
    "    # filter for frequent items\n",
    "    frequent_items = set()\n",
    "    for key in item_counts:\n",
    "        if item_counts[key] > THRESHOLD:\n",
    "            frequent_items.add(key)\n",
    "\n",
    "\n",
    "    # second pass\n",
    "    # get counts of candidate pairs\n",
    "    for line in data:\n",
    "        items = line.split()\n",
    "        for idx_1 in range(len(items)-1):\n",
    "            if items[idx_1] not in frequent_items:\n",
    "                continue\n",
    "            for idx_2 in range(idx_1 + 1, len(items)):\n",
    "                if items[idx_2] not in frequent_items:\n",
    "                    continue\n",
    "                pair = (items[idx_1], items[idx_2])\n",
    "                pair_counts[pair]+=1\n",
    "    return pair_counts\n",
    "\n",
    "    # get frequent pairs dictionary\n",
    "    frequent_pairs_dict = {}\n",
    "    for key in pair_counts:\n",
    "        frequent_pairs_dict[key] = frequent_pairs_dict.get(key,0) + 1 \n",
    "    # return frequent_pairs_dict\n",
    "    \n",
    "    # assoication rules and confidence\n",
    "    for i in range(len(frequent_pairs)):\n",
    "        assoication_rules[frequent_pairs[i][0] + ' -> ' + frequent_pairs[i][1]] = np.round(pair_counts[(frequent_pairs[i][0], frequent_pairs[i][1])]/item_counts[frequent_pairs[i][0]],3)\n",
    "        assoication_rules[frequent_pairs[i][1] + ' -> ' + frequent_pairs[i][0]] = np.round(pair_counts[(frequent_pairs[i][0], frequent_pairs[i][1])]/item_counts[frequent_pairs[i][1]],3)\n",
    "    # return assoication_rules\n",
    "        \n",
    "    "
   ]
  },
  {
   "cell_type": "code",
   "execution_count": 5,
   "id": "58ae098c",
   "metadata": {},
   "outputs": [],
   "source": [
    "def split(list_a, no_of_chunk):\n",
    "    chunk_size = int(len(list_a)/no_of_chunk)+1\n",
    "    for i in range(0, len(list_a), chunk_size):\n",
    "        yield list_a[i:i + chunk_size]"
   ]
  },
  {
   "cell_type": "code",
   "execution_count": 6,
   "id": "ab26e02c",
   "metadata": {},
   "outputs": [],
   "source": [
    "# SON Algorithm (divide into 10 chunks)\n",
    "def SON(data, no_of_chunk):\n",
    "        \n",
    "    chunk_list = []\n",
    "    tmp_list = []\n",
    "    union_frequent_itemset = []\n",
    "    final_frequent_itemset = []\n",
    "    candidate_itemset_dict = {}\n",
    "    frequent_itemset_dict = {}\n",
    "    split_data = list(split(data, no_of_chunk))\n",
    "    \n",
    "    whole_set_size = len(data)\n",
    "    THERSHOLD = int(np.ceil(whole_set_size * threshold_percent))\n",
    "    chunk_THRESHOLD = int(np.ceil(whole_set_size * threshold_percent)/no_of_chunk)\n",
    "    \n",
    "    \n",
    "    # First Pass\n",
    "    \n",
    "    # find itemset for each chunk\n",
    "    for i in range(0, no_of_chunk):\n",
    "        chunk_list.append(SON_apriori(split_data[i]))\n",
    "    \n",
    "    tmp_list = chunk_list   # Initialize the list \n",
    "    \n",
    "    # filter for frequent itemset (remove itemset if its value is lower than threshold)\n",
    "    for i in range(0,len(tmp_list)):\n",
    "        tmp_list[i] = dict((k,v) for k,v in chunk_list[i].items() if v>=chunk_THRESHOLD)\n",
    "    \n",
    "    # Union all local frequent itemset (convert all dictionary in tmp_list to list first)\n",
    "    for i in range(0, len(chunk_list)):\n",
    "        union_frequent_itemset += tmp_list[i].keys()\n",
    "    \n",
    "    \n",
    "    \n",
    "    # Second Pass\n",
    "    \n",
    "    frequent_itemset_dict = {i:0 for i in union_frequent_itemset}\n",
    "    # count all the candidate itemset from all chunk dictionaries\n",
    "    for i in frequent_itemset_dict.keys():\n",
    "        for j in range(0, no_of_chunk):\n",
    "            frequent_itemset_dict[i] += chunk_list[j].get(i,0)\n",
    "   \n",
    "    # Remove false positive\n",
    "    frequent_itemset_dict = {k:v for k,v in frequent_itemset_dict.items() if v >= THERSHOLD}\n",
    "    return list(frequent_itemset_dict.keys())\n",
    "    \n"
   ]
  },
  {
   "cell_type": "code",
   "execution_count": 7,
   "id": "22658a36",
   "metadata": {},
   "outputs": [],
   "source": [
    "def Jaccard_similarity(list1, list2):\n",
    "    ans = np.round(len(set(list1) & set(list2)) / float(len(set(list1) | set(list2))) * 100,3)\n",
    "    return ans"
   ]
  },
  {
   "cell_type": "code",
   "execution_count": 8,
   "id": "9a75382c",
   "metadata": {},
   "outputs": [],
   "source": [
    "T10I4D100K_1percent= simple_algo(T10I4D100K_lines, 0.01)\n",
    "T40I10D100K_1percent= simple_algo(T40I10D100K_lines, 0.01)\n",
    "chess_1percent= simple_algo(chess_lines, 0.01)\n",
    "connect_1percent= simple_algo(connect_lines, 0.01)\n",
    "mushroom_1percent= simple_algo(mushroom_lines, 0.01)\n",
    "pumsb_1percent= simple_algo(pumsb_lines, 0.01)\n",
    "pumsb_star_1percent= simple_algo(pumsb_star_lines, 0.01)"
   ]
  },
  {
   "cell_type": "code",
   "execution_count": 9,
   "id": "5ff8ce91",
   "metadata": {},
   "outputs": [],
   "source": [
    "T10I4D100K_2percent= simple_algo(T10I4D100K_lines, 0.02)\n",
    "T40I10D100K_2percent= simple_algo(T40I10D100K_lines, 0.02)\n",
    "chess_2percent= simple_algo(chess_lines, 0.02)\n",
    "connect_2percent= simple_algo(connect_lines, 0.02)\n",
    "mushroom_2percent= simple_algo(mushroom_lines, 0.02)\n",
    "pumsb_2percent= simple_algo(pumsb_lines, 0.02)\n",
    "pumsb_star_2percent= simple_algo(pumsb_star_lines, 0.02)"
   ]
  },
  {
   "cell_type": "code",
   "execution_count": 10,
   "id": "12effd1b",
   "metadata": {},
   "outputs": [],
   "source": [
    "T10I4D100K_5percent= simple_algo(T10I4D100K_lines, 0.05)\n",
    "T40I10D100K_5percent= simple_algo(T40I10D100K_lines, 0.05)\n",
    "chess_5percent= simple_algo(chess_lines, 0.05)\n",
    "connect_5percent= simple_algo(connect_lines, 0.05)\n",
    "mushroom_5percent= simple_algo(mushroom_lines, 0.05)\n",
    "pumsb_5percent= simple_algo(pumsb_lines, 0.05)\n",
    "pumsb_star_5percent= simple_algo(pumsb_star_lines, 0.05)"
   ]
  },
  {
   "cell_type": "code",
   "execution_count": 11,
   "id": "6125c787",
   "metadata": {},
   "outputs": [],
   "source": [
    "T10I4D100K_10percent= simple_algo(T10I4D100K_lines, 0.1)\n",
    "T40I10D100K_10percent= simple_algo(T40I10D100K_lines, 0.1)\n",
    "chess_10percent= simple_algo(chess_lines, 0.1)\n",
    "connect_10percent= simple_algo(connect_lines, 0.1)\n",
    "mushroom_10percent= simple_algo(mushroom_lines, 0.1)\n",
    "pumsb_10percent= simple_algo(pumsb_lines, 0.1)\n",
    "pumsb_star_10percent= simple_algo(pumsb_star_lines, 0.1)"
   ]
  },
  {
   "cell_type": "code",
   "execution_count": 12,
   "id": "449dec3f",
   "metadata": {},
   "outputs": [],
   "source": [
    "T10I4D100K_SON= SON(T10I4D100K_lines, 10)\n",
    "T40I10D100K_SON= SON(T40I10D100K_lines, 10)\n",
    "chess_SON= SON(chess_lines, 10)\n",
    "connect_SON= SON(connect_lines, 10)\n",
    "mushroom_SON= SON(mushroom_lines, 10)\n",
    "pumsb_SON= SON(pumsb_lines, 10)\n",
    "pumsb_star_SON= SON(pumsb_star_lines, 10)"
   ]
  },
  {
   "cell_type": "markdown",
   "id": "dd6ca861",
   "metadata": {},
   "source": [
    "# Compare the result from simple, random algorithm and SON algorithm"
   ]
  },
  {
   "cell_type": "markdown",
   "id": "fe5d2abf",
   "metadata": {},
   "source": [
    "## Jaccard Similarity among 5 results for each dataset and number of frequent itemsets"
   ]
  },
  {
   "cell_type": "markdown",
   "id": "d7a56f12",
   "metadata": {},
   "source": [
    "### T10I4D100K"
   ]
  },
  {
   "cell_type": "code",
   "execution_count": 13,
   "id": "06db9dbc",
   "metadata": {},
   "outputs": [
    {
     "data": {
      "text/plain": [
       "array([[100.   ,  17.5  ,  25.926,  23.077,  17.391],\n",
       "       [ 17.5  , 100.   ,  15.625,  20.69 ,  15.385],\n",
       "       [ 25.926,  15.625, 100.   ,  69.231,  41.667],\n",
       "       [ 23.077,  20.69 ,  69.231, 100.   ,  50.   ],\n",
       "       [ 17.391,  15.385,  41.667,  50.   , 100.   ]])"
      ]
     },
     "execution_count": 13,
     "metadata": {},
     "output_type": "execute_result"
    }
   ],
   "source": [
    "T10I4D100K_list = [T10I4D100K_1percent,T10I4D100K_2percent,T10I4D100K_5percent,T10I4D100K_10percent,T10I4D100K_SON]\n",
    "T10I4D100K_list_size = [len(T10I4D100K_1percent),len(T10I4D100K_2percent),len(T10I4D100K_5percent),len(T10I4D100K_10percent),len(T10I4D100K_SON)]\n",
    "T10I4D100K_similarity_matrix = np.zeros((5,5))\n",
    "\n",
    "for i in range(0, 5):\n",
    "    for j in range(0, 5):\n",
    "            T10I4D100K_similarity_matrix[i][j]= Jaccard_similarity(T10I4D100K_list[i],T10I4D100K_list[j])\n",
    "\n",
    "T10I4D100K_similarity_matrix\n"
   ]
  },
  {
   "cell_type": "code",
   "execution_count": 14,
   "id": "9f327252",
   "metadata": {},
   "outputs": [
    {
     "data": {
      "text/plain": [
       "[22, 25, 12, 10, 5]"
      ]
     },
     "execution_count": 14,
     "metadata": {},
     "output_type": "execute_result"
    }
   ],
   "source": [
    "T10I4D100K_list_size"
   ]
  },
  {
   "cell_type": "code",
   "execution_count": 15,
   "id": "8d0d0544",
   "metadata": {},
   "outputs": [],
   "source": [
    "# line graph for similarity between results of simple, random algorithm (1%/2%/5%/10%) and SON algorithm"
   ]
  },
  {
   "cell_type": "code",
   "execution_count": 16,
   "id": "b4a08df8",
   "metadata": {},
   "outputs": [
    {
     "data": {
      "image/png": "[encoded data removed]",
      "text/plain": [
       "<Figure size 864x432 with 1 Axes>"
      ]
     },
     "metadata": {
      "needs_background": "light"
     },
     "output_type": "display_data"
    }
   ],
   "source": [
    "import matplotlib.pyplot as plt\n",
    "text_processing = ['random 1% & SON', 'random 2% & SON', 'random 5% & SON', 'random 10% & SON']\n",
    "values = [T10I4D100K_similarity_matrix[0][4], T10I4D100K_similarity_matrix[1][4], T10I4D100K_similarity_matrix[2][4], T10I4D100K_similarity_matrix[3][4]]\n",
    "\n",
    "\n",
    "fig = plt.figure(figsize = (12, 6))\n",
    " \n",
    "# Create the bar plot\n",
    "plt.bar(text_processing, values, color ='green',\n",
    "        width = 0.4)\n",
    "\n",
    "plt.xlabel(\"Different Comparison\")\n",
    "plt.ylabel(\"Jaccard Similarity in %\")\n",
    "plt.title(\"T10I4D100K - Similarity between results of random algorithm (1%/2%/5%/10%) and SON algorithm\")\n",
    "plt.show()"
   ]
  },
  {
   "cell_type": "markdown",
   "id": "a18e2366",
   "metadata": {},
   "source": [
    "### T40I10D100K"
   ]
  },
  {
   "cell_type": "code",
   "execution_count": 17,
   "id": "60635fed",
   "metadata": {},
   "outputs": [
    {
     "data": {
      "text/plain": [
       "array([[100.   ,  29.73 ,  15.625,  13.793,  16.667],\n",
       "       [ 29.73 , 100.   ,  21.875,  25.   ,  20.   ],\n",
       "       [ 15.625,  21.875, 100.   ,  60.   ,  35.714],\n",
       "       [ 13.793,  25.   ,  60.   , 100.   ,  50.   ],\n",
       "       [ 16.667,  20.   ,  35.714,  50.   , 100.   ]])"
      ]
     },
     "execution_count": 17,
     "metadata": {},
     "output_type": "execute_result"
    }
   ],
   "source": [
    "T40I10D100K_list = [T40I10D100K_1percent,T40I10D100K_2percent,T40I10D100K_5percent,T40I10D100K_10percent,T40I10D100K_SON]\n",
    "T40I10D100K_list_size = [len(T40I10D100K_1percent),len(T40I10D100K_2percent),len(T40I10D100K_5percent),len(T40I10D100K_10percent),len(T40I10D100K_SON)]\n",
    "T40I10D100K_similarity_matrix = np.zeros((5,5))\n",
    "\n",
    "for i in range(0, 5):\n",
    "    for j in range(0, 5):\n",
    "            T40I10D100K_similarity_matrix[i][j]= Jaccard_similarity(T40I10D100K_list[i],T40I10D100K_list[j])\n",
    "\n",
    "T40I10D100K_similarity_matrix"
   ]
  },
  {
   "cell_type": "code",
   "execution_count": 18,
   "id": "c2af83cd",
   "metadata": {},
   "outputs": [
    {
     "data": {
      "text/plain": [
       "[23, 25, 14, 10, 5]"
      ]
     },
     "execution_count": 18,
     "metadata": {},
     "output_type": "execute_result"
    }
   ],
   "source": [
    "T40I10D100K_list_size"
   ]
  },
  {
   "cell_type": "code",
   "execution_count": 19,
   "id": "0872abd1",
   "metadata": {},
   "outputs": [
    {
     "data": {
      "image/png": "[encoded data removed]",
      "text/plain": [
       "<Figure size 864x432 with 1 Axes>"
      ]
     },
     "metadata": {
      "needs_background": "light"
     },
     "output_type": "display_data"
    }
   ],
   "source": [
    "text_processing = ['random 1% & SON', 'random 2% & SON', 'random 5% & SON', 'random 10% & SON']\n",
    "values = [T40I10D100K_similarity_matrix[0][4], T40I10D100K_similarity_matrix[1][4], T40I10D100K_similarity_matrix[2][4], T40I10D100K_similarity_matrix[3][4]]\n",
    "\n",
    "\n",
    "fig = plt.figure(figsize = (12, 6))\n",
    " \n",
    "# Create the bar plot\n",
    "plt.bar(text_processing, values, color ='lightblue',\n",
    "        width = 0.4)\n",
    "\n",
    "plt.xlabel(\"Different Comparison\")\n",
    "plt.ylabel(\"Jaccard Similarity in %\")\n",
    "plt.title(\"T40I10D100K - Similarity between results of random algorithm (1%/2%/5%/10%) and SON algorithm\")\n",
    "plt.show()"
   ]
  },
  {
   "cell_type": "markdown",
   "id": "a7e24943",
   "metadata": {},
   "source": [
    "### chess"
   ]
  },
  {
   "cell_type": "code",
   "execution_count": 20,
   "id": "9c2fd790",
   "metadata": {},
   "outputs": [
    {
     "data": {
      "text/plain": [
       "array([[100.   ,  82.821,  86.252,  84.801,  82.985],\n",
       "       [ 82.821, 100.   ,  88.894,  86.866,  87.31 ],\n",
       "       [ 86.252,  88.894, 100.   ,  93.943,  94.467],\n",
       "       [ 84.801,  86.866,  93.943, 100.   ,  96.28 ],\n",
       "       [ 82.985,  87.31 ,  94.467,  96.28 , 100.   ]])"
      ]
     },
     "execution_count": 20,
     "metadata": {},
     "output_type": "execute_result"
    }
   ],
   "source": [
    "chess_list = [chess_1percent,chess_2percent,chess_5percent,chess_10percent,chess_SON]\n",
    "chess_list_size = [len(chess_1percent),len(chess_2percent),len(chess_5percent),len(chess_10percent),len(chess_SON)]\n",
    "chess_similarity_matrix = np.zeros((5,5))\n",
    "\n",
    "for i in range(0, 5):\n",
    "    for j in range(0, 5):\n",
    "            chess_similarity_matrix[i][j]= Jaccard_similarity(chess_list[i],chess_list[j])\n",
    "\n",
    "chess_similarity_matrix"
   ]
  },
  {
   "cell_type": "code",
   "execution_count": 21,
   "id": "65ca4d3a",
   "metadata": {},
   "outputs": [
    {
     "data": {
      "text/plain": [
       "[1868, 2059, 2142, 2181, 2251]"
      ]
     },
     "execution_count": 21,
     "metadata": {},
     "output_type": "execute_result"
    }
   ],
   "source": [
    "chess_list_size"
   ]
  },
  {
   "cell_type": "code",
   "execution_count": 22,
   "id": "89090851",
   "metadata": {},
   "outputs": [
    {
     "data": {
      "image/png": "[encoded data removed]",
      "text/plain": [
       "<Figure size 864x432 with 1 Axes>"
      ]
     },
     "metadata": {
      "needs_background": "light"
     },
     "output_type": "display_data"
    }
   ],
   "source": [
    "text_processing = ['random 1% & SON', 'random 2% & SON', 'random 5% & SON', 'random 10% & SON']\n",
    "values = [chess_similarity_matrix[0][4], chess_similarity_matrix[1][4], chess_similarity_matrix[2][4], chess_similarity_matrix[3][4]]\n",
    "\n",
    "\n",
    "fig = plt.figure(figsize = (12, 6))\n",
    " \n",
    "# Create the bar plot\n",
    "plt.bar(text_processing, values, color ='lightgreen',\n",
    "        width = 0.4)\n",
    "\n",
    "plt.xlabel(\"Different Comparison\")\n",
    "plt.ylabel(\"Jaccard Similarity in %\")\n",
    "plt.title(\"chess - Similarity between results of random algorithm (1%/2%/5%/10%) and SON algorithm\")\n",
    "plt.show()"
   ]
  },
  {
   "cell_type": "markdown",
   "id": "108072ba",
   "metadata": {},
   "source": [
    "### connect"
   ]
  },
  {
   "cell_type": "code",
   "execution_count": 23,
   "id": "d8f7e564",
   "metadata": {},
   "outputs": [
    {
     "data": {
      "text/plain": [
       "array([[100.   ,  92.714,  93.556,  92.893,  93.507],\n",
       "       [ 92.714, 100.   ,  95.876,  95.211,  95.137],\n",
       "       [ 93.556,  95.876, 100.   ,  96.874,  95.584],\n",
       "       [ 92.893,  95.211,  96.874, 100.   ,  96.516],\n",
       "       [ 93.507,  95.137,  95.584,  96.516, 100.   ]])"
      ]
     },
     "execution_count": 23,
     "metadata": {},
     "output_type": "execute_result"
    }
   ],
   "source": [
    "connect_list = [connect_1percent,connect_2percent,connect_5percent,connect_10percent,connect_SON]\n",
    "connect_list_size = [len(connect_1percent),len(connect_2percent),len(connect_5percent),len(connect_10percent),len(connect_SON)]\n",
    "connect_similarity_matrix = np.zeros((5,5))\n",
    "\n",
    "for i in range(0, 5):\n",
    "    for j in range(0, 5):\n",
    "            connect_similarity_matrix[i][j]= Jaccard_similarity(connect_list[i],connect_list[j])\n",
    "\n",
    "connect_similarity_matrix"
   ]
  },
  {
   "cell_type": "code",
   "execution_count": 24,
   "id": "54a318b5",
   "metadata": {},
   "outputs": [
    {
     "data": {
      "text/plain": [
       "[4147, 4238, 4263, 4240, 4108]"
      ]
     },
     "execution_count": 24,
     "metadata": {},
     "output_type": "execute_result"
    }
   ],
   "source": [
    "connect_list_size"
   ]
  },
  {
   "cell_type": "code",
   "execution_count": 25,
   "id": "d6123970",
   "metadata": {},
   "outputs": [
    {
     "data": {
      "image/png": "[encoded data removed]",
      "text/plain": [
       "<Figure size 864x432 with 1 Axes>"
      ]
     },
     "metadata": {
      "needs_background": "light"
     },
     "output_type": "display_data"
    }
   ],
   "source": [
    "text_processing = ['random 1% & SON', 'random 2% & SON', 'random 5% & SON', 'random 10% & SON']\n",
    "values = [connect_similarity_matrix[0][4], connect_similarity_matrix[1][4], connect_similarity_matrix[2][4], connect_similarity_matrix[3][4]]\n",
    "\n",
    "\n",
    "fig = plt.figure(figsize = (12, 6))\n",
    " \n",
    "# Create the bar plot\n",
    "plt.bar(text_processing, values, color ='pink',\n",
    "        width = 0.4)\n",
    "\n",
    "plt.xlabel(\"Different Comparison\")\n",
    "plt.ylabel(\"Jaccard Similarity in %\")\n",
    "plt.title(\"connect - Similarity between results of random algorithm (1%/2%/5%/10%) and SON algorithm\")\n",
    "plt.show()"
   ]
  },
  {
   "cell_type": "markdown",
   "id": "bf538a7f",
   "metadata": {},
   "source": [
    "### mushroom"
   ]
  },
  {
   "cell_type": "code",
   "execution_count": 26,
   "id": "42ee401d",
   "metadata": {},
   "outputs": [
    {
     "data": {
      "text/plain": [
       "array([[100.   ,  74.744,  77.148,  78.252,  74.969],\n",
       "       [ 74.744, 100.   ,  85.471,  85.89 ,  86.651],\n",
       "       [ 77.148,  85.471, 100.   ,  90.177,  90.312],\n",
       "       [ 78.252,  85.89 ,  90.177, 100.   ,  92.132],\n",
       "       [ 74.969,  86.651,  90.312,  92.132, 100.   ]])"
      ]
     },
     "execution_count": 26,
     "metadata": {},
     "output_type": "execute_result"
    }
   ],
   "source": [
    "mushroom_list = [mushroom_1percent,mushroom_2percent,mushroom_5percent,mushroom_10percent,mushroom_SON]\n",
    "mushroom_list_size = [len(mushroom_1percent),len(mushroom_2percent),len(mushroom_5percent),len(mushroom_10percent),len(mushroom_SON)]\n",
    "mushroom_similarity_matrix = np.zeros((5,5))\n",
    "\n",
    "for i in range(0, 5):\n",
    "    for j in range(0, 5):\n",
    "            mushroom_similarity_matrix[i][j]= Jaccard_similarity(mushroom_list[i],mushroom_list[j])\n",
    "\n",
    "mushroom_similarity_matrix"
   ]
  },
  {
   "cell_type": "code",
   "execution_count": 27,
   "id": "b57cf870",
   "metadata": {},
   "outputs": [
    {
     "data": {
      "text/plain": [
       "[1845, 2251, 2217, 2294, 2419]"
      ]
     },
     "execution_count": 27,
     "metadata": {},
     "output_type": "execute_result"
    }
   ],
   "source": [
    "mushroom_list_size"
   ]
  },
  {
   "cell_type": "code",
   "execution_count": 28,
   "id": "be1a8c6e",
   "metadata": {},
   "outputs": [
    {
     "data": {
      "image/png": "[encoded data removed]",
      "text/plain": [
       "<Figure size 864x432 with 1 Axes>"
      ]
     },
     "metadata": {
      "needs_background": "light"
     },
     "output_type": "display_data"
    }
   ],
   "source": [
    "text_processing = ['random 1% & SON', 'random 2% & SON', 'random 5% & SON', 'random 10% & SON']\n",
    "values = [mushroom_similarity_matrix[0][4], mushroom_similarity_matrix[1][4], mushroom_similarity_matrix[2][4], mushroom_similarity_matrix[3][4]]\n",
    "\n",
    "\n",
    "fig = plt.figure(figsize = (12, 6))\n",
    " \n",
    "# Create the bar plot\n",
    "plt.bar(text_processing, values, color ='aquamarine',\n",
    "        width = 0.4)\n",
    "\n",
    "plt.xlabel(\"Different Comparison\")\n",
    "plt.ylabel(\"Jaccard Similarity in %\")\n",
    "plt.title(\"mushroom - Similarity between results of random algorithm (1%/2%/5%/10%) and SON algorithm\")\n",
    "plt.show()"
   ]
  },
  {
   "cell_type": "markdown",
   "id": "ff4c45a5",
   "metadata": {},
   "source": [
    "### pumsb"
   ]
  },
  {
   "cell_type": "code",
   "execution_count": 29,
   "id": "276e0810",
   "metadata": {},
   "outputs": [
    {
     "data": {
      "text/plain": [
       "array([[100.   ,  76.486,  79.506,  80.38 ,  80.021],\n",
       "       [ 76.486, 100.   ,  83.361,  84.945,  84.829],\n",
       "       [ 79.506,  83.361, 100.   ,  89.742,  87.933],\n",
       "       [ 80.38 ,  84.945,  89.742, 100.   ,  88.367],\n",
       "       [ 80.021,  84.829,  87.933,  88.367, 100.   ]])"
      ]
     },
     "execution_count": 29,
     "metadata": {},
     "output_type": "execute_result"
    }
   ],
   "source": [
    "pumsb_list = [pumsb_1percent,pumsb_2percent,pumsb_5percent,pumsb_10percent,pumsb_SON]\n",
    "pumsb_list_size = [len(pumsb_1percent),len(pumsb_2percent),len(pumsb_5percent),len(pumsb_10percent),len(pumsb_SON)]\n",
    "pumsb_similarity_matrix = np.zeros((5,5))\n",
    "\n",
    "for i in range(0, 5):\n",
    "    for j in range(0, 5):\n",
    "            pumsb_similarity_matrix[i][j]= Jaccard_similarity(pumsb_list[i],pumsb_list[j])\n",
    "\n",
    "pumsb_similarity_matrix"
   ]
  },
  {
   "cell_type": "code",
   "execution_count": 30,
   "id": "1ff3a1dc",
   "metadata": {},
   "outputs": [
    {
     "data": {
      "text/plain": [
       "[22749, 22855, 23174, 23385, 20870]"
      ]
     },
     "execution_count": 30,
     "metadata": {},
     "output_type": "execute_result"
    }
   ],
   "source": [
    "pumsb_list_size"
   ]
  },
  {
   "cell_type": "code",
   "execution_count": 31,
   "id": "1ac601bf",
   "metadata": {},
   "outputs": [
    {
     "data": {
      "image/png": "[encoded data removed]",
      "text/plain": [
       "<Figure size 864x432 with 1 Axes>"
      ]
     },
     "metadata": {
      "needs_background": "light"
     },
     "output_type": "display_data"
    }
   ],
   "source": [
    "text_processing = ['random 1% & SON', 'random 2% & SON', 'random 5% & SON', 'random 10% & SON']\n",
    "values = [pumsb_similarity_matrix[0][4], pumsb_similarity_matrix[1][4], pumsb_similarity_matrix[2][4], pumsb_similarity_matrix[3][4]]\n",
    "\n",
    "\n",
    "fig = plt.figure(figsize = (12, 6))\n",
    " \n",
    "# Create the bar plot\n",
    "plt.bar(text_processing, values, color ='brown',\n",
    "        width = 0.4)\n",
    "\n",
    "plt.xlabel(\"Different Comparison\")\n",
    "plt.ylabel(\"Jaccard Similarity in %\")\n",
    "plt.title(\"pumsb - Similarity between results of random algorithm (1%/2%/5%/10%) and SON algorithm\")\n",
    "plt.show()"
   ]
  },
  {
   "cell_type": "markdown",
   "id": "49601c92",
   "metadata": {},
   "source": [
    "### pumsb_star"
   ]
  },
  {
   "cell_type": "code",
   "execution_count": 32,
   "id": "14e43a79",
   "metadata": {},
   "outputs": [
    {
     "data": {
      "text/plain": [
       "array([[100.   ,  74.058,  75.507,  76.952,  76.532],\n",
       "       [ 74.058, 100.   ,  82.132,  83.976,  82.66 ],\n",
       "       [ 75.507,  82.132, 100.   ,  87.168,  85.857],\n",
       "       [ 76.952,  83.976,  87.168, 100.   ,  87.83 ],\n",
       "       [ 76.532,  82.66 ,  85.857,  87.83 , 100.   ]])"
      ]
     },
     "execution_count": 32,
     "metadata": {},
     "output_type": "execute_result"
    }
   ],
   "source": [
    "pumsb_star_list = [pumsb_star_1percent,pumsb_star_2percent,pumsb_star_5percent,pumsb_star_10percent,pumsb_star_SON]\n",
    "pumsb_star_list_size = [len(pumsb_star_1percent),len(pumsb_star_2percent),len(pumsb_star_5percent),len(pumsb_star_10percent),len(pumsb_star_SON)]\n",
    "pumsb_star_similarity_matrix = np.zeros((5,5))\n",
    "\n",
    "for i in range(0, 5):\n",
    "    for j in range(0, 5):\n",
    "            pumsb_star_similarity_matrix[i][j]= Jaccard_similarity(pumsb_star_list[i],pumsb_star_list[j])\n",
    "\n",
    "pumsb_star_similarity_matrix"
   ]
  },
  {
   "cell_type": "code",
   "execution_count": 33,
   "id": "40e2eef9",
   "metadata": {},
   "outputs": [
    {
     "data": {
      "text/plain": [
       "[14699, 14534, 14465, 14606, 12960]"
      ]
     },
     "execution_count": 33,
     "metadata": {},
     "output_type": "execute_result"
    }
   ],
   "source": [
    "pumsb_star_list_size"
   ]
  },
  {
   "cell_type": "code",
   "execution_count": 34,
   "id": "9a3d4cac",
   "metadata": {},
   "outputs": [
    {
     "data": {
      "image/png": "[encoded data removed]",
      "text/plain": [
       "<Figure size 864x432 with 1 Axes>"
      ]
     },
     "metadata": {
      "needs_background": "light"
     },
     "output_type": "display_data"
    }
   ],
   "source": [
    "text_processing = ['random 1% & SON', 'random 2% & SON', 'random 5% & SON', 'random 10% & SON']\n",
    "values = [pumsb_star_similarity_matrix[0][4], pumsb_star_similarity_matrix[1][4], pumsb_star_similarity_matrix[2][4], pumsb_star_similarity_matrix[3][4]]\n",
    "\n",
    "\n",
    "fig = plt.figure(figsize = (12, 6))\n",
    " \n",
    "# Create the bar plot\n",
    "plt.bar(text_processing, values, color ='green',\n",
    "        width = 0.4)\n",
    "\n",
    "plt.xlabel(\"Different Comparison\")\n",
    "plt.ylabel(\"Jaccard Similarity in %\")\n",
    "plt.title(\"pumsb_star - Similarity between results of random algorithm (1%/2%/5%/10%) and SON algorithm\")\n",
    "plt.show()"
   ]
  },
  {
   "cell_type": "code",
   "execution_count": null,
   "id": "6b08553e",
   "metadata": {},
   "outputs": [],
   "source": []
  }
 ],
 "metadata": {
  "kernelspec": {
   "display_name": "Python 3 (ipykernel)",
   "language": "python",
   "name": "python3"
  },
  "language_info": {
   "codemirror_mode": {
    "name": "ipython",
    "version": 3
   },
   "file_extension": ".py",
   "mimetype": "text/x-python",
   "name": "python",
   "nbconvert_exporter": "python",
   "pygments_lexer": "ipython3",
   "version": "3.9.7"
  }
 },
 "nbformat": 4,
 "nbformat_minor": 5
}
